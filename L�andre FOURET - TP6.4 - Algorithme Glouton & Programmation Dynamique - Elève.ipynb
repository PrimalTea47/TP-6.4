{
 "cells": [
  {
   "cell_type": "markdown",
   "id": "1443e017",
   "metadata": {},
   "source": [
    "---"
   ]
  },
  {
   "cell_type": "markdown",
   "id": "d15d6e61",
   "metadata": {},
   "source": [
    "<img src=\"https://github.com/Lionel-Helin-Oza/Images_Notebook/blob/main/NSI-Image.png?raw=true\" alt=\"drawing\" width=\"350\">"
   ]
  },
  {
   "cell_type": "markdown",
   "id": "aff477f4",
   "metadata": {},
   "source": [
    "# TP6.4 - Algorithme Glouton & Programmation Dynamique\n",
    "\n",
    "Durée de l'activité proposée : 4h"
   ]
  },
  {
   "cell_type": "markdown",
   "id": "d3651f9a",
   "metadata": {},
   "source": [
    "<img src=\"https://github.com/Lionel-Helin-Oza/TP6.4-Algo_glouton_-_prog_dyna/blob/main/image_acceuil.png?raw=true\" width=\"650\">"
   ]
  },
  {
   "cell_type": "markdown",
   "id": "5032505f",
   "metadata": {},
   "source": [
    "---"
   ]
  },
  {
   "cell_type": "markdown",
   "id": "746a3eef",
   "metadata": {},
   "source": [
    "\n",
    "## <span style='color:Red'> Partie 1 : C’est quoi un Algorithme Glouton ? (Rappels 1ère)\n",
    "    \n",
    "> Un algorithme **glouton** (greedy algorithm en anglais, parfois appelé aussi algorithme gourmand, ou goulu) est un algorithme qui suit le principe de faire, étape par étape, un choix optimum local, dans l'espoir d'obtenir un résultat optimum global. Les algorithmes de parcours sont des méthodes de recherche (et ne sont pas réservés aux graphes). \n",
    "      "
   ]
  },
  {
   "cell_type": "markdown",
   "id": "9f2c3b8b",
   "metadata": {},
   "source": [
    "---"
   ]
  },
  {
   "cell_type": "markdown",
   "id": "57a1ad2c",
   "metadata": {},
   "source": [
    "## <span style='color:Blue'> *Thème 1 : Problème du rendu de monnaie*   \n",
    "\n",
    "Ce problème est un grand classique de l'algorithmique. \n",
    "    \n",
    "Lorsque vous passez à la caisse d'un magasin quelconque, il n'est pas rare que le caissier doive vous rendre de l'argent car le montant que vous lui avez donné est supérieur à celui que vous devez payer.\n",
    "\n",
    "    \n",
    "***Exemple:***\n",
    "\n",
    "Supposons qu'on doive vous rendre la somme de 2,63€. \n",
    "Il y a plusieurs façons de procéder:\n",
    "\n",
    "On peut par exemple vous rendre \n",
    "-\t263 pièces de 1 centime, \n",
    "-\t125 pièces de 2 centimes et 13 pièces de 1 centime ou encore \n",
    "-\t5 pièces de 50 centimes, une de 10 centimes, une de 2 centimes et une de 1 centime.\n",
    "\n",
    "Il y a bien évidemment énormément de possibilités pour vous rendre la dite somme. Mais il y a fort à parier que les solutions du type « 263 pièces de 1 cent » ne vous conviennent pas... \n",
    "    \n",
    "**Le problème qui se pose est donc de minimiser le nombre de pièces rendues pour un montant fixé. Comment s’y prendre ?** \n",
    "    \n",
    "    \n",
    "<span style='color:violet'> **Solution 1 : Méthode de force brute**\n",
    "    \n",
    "Une méthode à laquelle on pense immédiatement est d'énumérer toutes les combinaisons possibles, et de sélectionner celles qui impliquent un minimum de pièces. \n",
    "Cette solution, dite de force brute ou naïve, fonctionnera toujours mais est très loin d'être efficace. \n",
    "En effet, si elle est simple dans certains cas, elle implique en général un nombre très important de combinaisons différentes, ce qui nuit grandement à son efficacité́.\n",
    "    \n",
    "<span style='color:violet'> **Solution 2 : Méthode Gloutonne**\n",
    "    \n",
    "La méthode gloutonne vise à optimiser la résolution d'un problème en partant du principe suivant : **des choix locaux optimaux, étape après étape, devraient produire un résultat global optimal**. \n",
    "    \n",
    "Dans notre cas, on va répéter le choix de la pièce de plus grande valeur qui ne dépasse pas la somme restante.\n",
    "En pratique, tout individu met en œuvre un algorithme glouton.\n",
    "\n"
   ]
  },
  {
   "cell_type": "markdown",
   "id": "1c205039",
   "metadata": {},
   "source": [
    "<img src=\"https://github.com/Lionel-Helin-Oza/TP6.4-Algo_glouton_-_prog_dyna/blob/main/pi%C3%A8ce.png?raw=true\" width=\"250\">"
   ]
  },
  {
   "cell_type": "markdown",
   "id": "c99e4cdd",
   "metadata": {},
   "source": [
    "Reprenons notre exemple:\n",
    "\n",
    "- On doit donc rendre la somme de 2,63€ et on dispose du système de monnaie européen, à savoir les pièces de : 1, 2, 5, 10, 20, 50 centimes et 1 et 2 euros.\n",
    "\n",
    "- La méthode gloutonne va d’abord choisir de rendre une pièce de 2 euros, il reste donc 63 centimes. \n",
    "\n",
    "- Puis on choisira une pièce de 50 centimes etc. jusqu’à ce qu’il ne reste plus rien à rendre.\n",
    "\n",
    "Finalement, nous aurons rendu 5 pièces ( 2€ , 50cts, 10cts, 2cts, 1cts)\n",
    "\n",
    "Un algorithme glouton fait toujours le choix qui semble le meilleur sur le moment. Il fait un choix localement optimal dans l’espoir que ce choix mènera à la solution globalement optimale.\n",
    "\n",
    "> Dans le problème du **rendu de monnaie** (donner une somme avec le moins possible de pièces), l'algorithme consistant à répéter le choix de la pièce de plus grande valeur qui ne dépasse pas la somme restante est un algorithme glouton. \n",
    "\n"
   ]
  },
  {
   "cell_type": "markdown",
   "id": "1a0e8bd3",
   "metadata": {},
   "source": [
    "### <span style='color:Green'> *Exercice 1.1 :*   \n"
   ]
  },
  {
   "cell_type": "markdown",
   "id": "26fe422a",
   "metadata": {},
   "source": [
    "Supposons donnée la liste Python suivante : \n",
    "\n",
    "`systemeMonetaire = [200,100,50,20,10,5,2,1]`\n",
    "\n",
    "représentant les valeurs des pièces disponibles (en centimes).\n",
    "\n",
    "**Écrire la fonction renduMonnaie prenant en argument le montant à rendre, et retournant la liste des pièces à rendre.**"
   ]
  },
  {
   "cell_type": "code",
   "execution_count": 6,
   "id": "5d4ce169",
   "metadata": {},
   "outputs": [
    {
     "name": "stdout",
     "output_type": "stream",
     "text": [
      "[200, 200, 50, 10, 5]\n"
     ]
    }
   ],
   "source": [
    "# Votre réponse ci-dessous (code):\n",
    "\n",
    "\n",
    "def renduMonnaie(somme:int):\n",
    "    systemeMonetaire = [200,100,50,20,10,5,2,1]\n",
    "    rendu = []\n",
    "    while somme > 0:\n",
    "        for piece in systemeMonetaire:\n",
    "            if piece <= somme:\n",
    "                rendu.append(piece)\n",
    "                somme -= piece\n",
    "                break\n",
    "    return rendu\n",
    "\n",
    "\n",
    "\n",
    "print(renduMonnaie(465))"
   ]
  },
  {
   "cell_type": "markdown",
   "id": "7b3138e9",
   "metadata": {},
   "source": [
    "\n",
    "Les algorithmes gloutons ne conduisent donc pas toujours à la solution optimale (dans les cas où l'algorithme ne fournit pas systématiquement la solution optimale, il est appelé une heuristique gloutonne (lien Wikipédia) )\n"
   ]
  },
  {
   "cell_type": "markdown",
   "id": "93b61168",
   "metadata": {},
   "source": [
    "\n",
    "***Prenons un exemple :***\n",
    "\n",
    "Jean achète à Florian une carte Microbit et ses accessoires pour se lancer dans la musique électronique. Elle coûte 92 euros. Il paye Florian avec un billet de 100 euros. \n",
    "\n",
    "Florian doit donc lui rendre 8 euros. \n",
    "\n",
    "La meilleure façon de lui rendre la monnaie est de le faire avec un billet de 5€ et une pièce de 2€ et une pièce de 1€. Le système monétaire Euro est bien fait et nous conduit à la solution optimale (3 pièces).\n",
    "\n",
    "*Imaginons que nous ayons à notre disposition un autre système monétaire avec les pièces [6, 4, 1].*\n",
    "\n",
    "L’algorithme glouton va donc nous rendre 1 pièce de 6€ , et 2 pièces de 1€.\n",
    "\n",
    "**Est-ce la solution optimale ? Non**, car on aurait pu rendre 2 pièces de 4€.\n",
    "\n",
    "Pire encore, imaginons que le système monétaire soit [5, 2]. L’algorithme va rendre 1 pièce de 5€, puis une pièce de 2€….et va ensuite planter. Alors qu’une solution existe ! (4 pièces de 2€).\n",
    "\n",
    "\n",
    "\n"
   ]
  },
  {
   "cell_type": "markdown",
   "id": "bbafcddf",
   "metadata": {},
   "source": [
    "### <span style='color:Green'> *Exercice 1.2 :*  \n",
    "    \n",
    "Reprenez votre code précédent. Spposons donnée la liste Python suivante :\n",
    "    \n",
    "`systemeMonetaire = [1,3,4]`\n",
    "    \n",
    "représentant les valeurs des pièces disponibles (en centimes).\n",
    "    \n",
    "Que va retourner votre algorithme si l’on demande de rendre 6 centimes avec ce système monétaire ?\n"
   ]
  },
  {
   "cell_type": "raw",
   "id": "58993fb6",
   "metadata": {},
   "source": [
    "Votre réponse :\n",
    "\n",
    "Mon programme rendra [1, 1, 1, 1, 1, 1] car la liste du système monétaire n'est pas triée dans l'ordre décroissant\n",
    "\n",
    "\n"
   ]
  },
  {
   "cell_type": "markdown",
   "id": "a5b03650",
   "metadata": {},
   "source": [
    "**On peut donc se poser la question : pourquoi ne pas utiliser la solution dite « de force brute » pour trouver la solution optimale ? **\n",
    "\n",
    "Pour rappel, cette solution consiste à passer en revue toutes les options possibles et retenir la meilleure.\n",
    "\n",
    "Prenons le problème du sac à dos : chaque objet est pris ou pas : il s'agit donc d'une donnée binaire. Avec 3 objets, il y a donc 2<sup>3</sup> combinaisons d'objets possibles, c'est-à-dire 8, ce qui est tout à fait acceptable.\n",
    "\n",
    "De manière générale, avec n objets, il y aurait 2n combinaisons à énumérer et tester. On obtient une complexité dite exponentielle et c'est là le problème : avec 80 objets, on obtient 2<sup>80</sup> combinaisons à tester, c'est-à-dire environ 10<sup>24</sup> combinaisons, soit de l'ordre de grandeur du nombre d'étoiles dans l'Univers observable, ou de gouttes d'eau dans la mer, ou du nombre de grains de sables au Sahara... (référence : https://fr.wikipedia.org/wiki/Ordres_de_grandeur_de_nombres).\n",
    "\n",
    "> **`Conclusion : la stratégie force brute est donc inapplicable si trop d'objets sont en jeu. Il en est de même pour les autres problèmes d'optimisation dès que le taille des données est trop importante.`**\n"
   ]
  },
  {
   "cell_type": "markdown",
   "id": "6bc25a5b",
   "metadata": {},
   "source": [
    "## <span style='color:Blue'> *Thème 2 : Problème du sac à dos*   "
   ]
  },
  {
   "cell_type": "markdown",
   "id": "0bf5fe61",
   "metadata": {},
   "source": [
    "<img src=\"https://github.com/Lionel-Helin-Oza/TP6.4-Algo_glouton_-_prog_dyna/blob/main/sac_%C3%A0_dos.png?raw=true\" width=\"250\">"
   ]
  },
  {
   "cell_type": "markdown",
   "id": "4a8f4f43",
   "metadata": {},
   "source": [
    "Un autre grand classique de l’algorithmie. \n",
    "\n",
    "Vous êtes un voleur et souhaitez emporter les objets pour maximiser la valeur totale du butin. Cependant, votre sac ne peut supporter qu’une masse maximale de 10 kg. \n",
    "\n",
    "On dispose d’un sac pouvant supporter un poids maximal donné et de divers objets ayant chacun une valeur et un poids. \n",
    "Il s’agit de choisir les objets à emporter dans le sac afin maximiser la valeur totale tout en respectant la contrainte du poids maximal. \n",
    "\n",
    "C’est un problème d’optimisation avec contrainte.\n",
    "\n",
    "Considérons les objets suivants et un sac de capacité maximale 10 kg. Quels objets faut-il prendre ?\n"
   ]
  },
  {
   "cell_type": "markdown",
   "id": "03258335",
   "metadata": {},
   "source": [
    "<img src=\" https://github.com/Lionel-Helin-Oza/TP6.4-Algo_glouton_-_prog_dyna/blob/main/tableau_masse.png?raw=true\" width=\"450\">"
   ]
  },
  {
   "cell_type": "markdown",
   "id": "08d04966",
   "metadata": {},
   "source": [
    "<span style='color:violet'> **Solution 1 : Méthode Gloutonne**"
   ]
  },
  {
   "cell_type": "markdown",
   "id": "c8b94fa4",
   "metadata": {},
   "source": [
    "Il y a plusieurs stratégies possibles : \n",
    "\n",
    "- ***Stratégie 1*** : prendre toujours l'objet de plus grande valeur n'excédant pas la capacité restante (il faut trier préalablement par valeur décroissante)\n",
    "\n",
    "\n",
    "- ***Stratégie 2*** : prendre toujours l'objet de plus faible masse (il faut trier préalablement par masse croissante)\n",
    "\n",
    "\n",
    "- ***Stratégie 3*** : prendre toujours l'objet de plus grand rapport valeur/masse  n'excédant pas la capacité restante (il faut trier préalablement par rapport valeur/masse décroissant)\n"
   ]
  },
  {
   "cell_type": "markdown",
   "id": "2a119661",
   "metadata": {},
   "source": [
    "### <span style='color:Green'> *Exercice 1.3 :*  "
   ]
  },
  {
   "cell_type": "markdown",
   "id": "9398db1a",
   "metadata": {},
   "source": [
    "Pour chaque stratégie, quelle est la valeur du sac à dos ( et avec quel objet ?) ?\n",
    "\n",
    "Vos Réponses en dessous :"
   ]
  },
  {
   "cell_type": "raw",
   "id": "6616e5f5",
   "metadata": {},
   "source": [
    "Stratégie 1 : 9100 + 2700 = 11 800€. \n",
    "\n",
    "Stratégie 2 : 200+2600+2700+4800 = 10 300€.\n",
    "\n",
    "Stratégie 3 : 9100 + 2600 + 200 = 11 900€.\n"
   ]
  },
  {
   "cell_type": "markdown",
   "id": "69688616",
   "metadata": {},
   "source": [
    "Pour la stratégie 3, on vous donne le tableau suivant :\n",
    "\n",
    "<img src=\" https://github.com/Lionel-Helin-Oza/TP6.4-Algo_glouton_-_prog_dyna/blob/main/tableau_ratio.png?raw=true\" width=\"350\">"
   ]
  },
  {
   "cell_type": "markdown",
   "id": "60ad274b",
   "metadata": {},
   "source": [
    "**Est-ce que la meilleure réponse est dans l’une de ces stratégies ?**\n",
    "\n",
    "Par exemple, la solution { B + C} nous donne un poids de 10kg pour une valeur de 12 000 €\n"
   ]
  },
  {
   "cell_type": "markdown",
   "id": "ba7d85e9",
   "metadata": {},
   "source": [
    "> **`Conclusion : on constate que la qualité de la solution dépend de la stratégie gloutonne utilisée. Selon les exemples, c'est l'une ou l'autre qui sera meilleure. Cependant, cette solution n'est pas forcément la solution optimale !`**\n",
    "\n",
    "> Pour mettre au point un algorithme glouton, il faut donc:\n",
    ">- Trouver un critère de sélection: souvent facile ... mais pas toujours\n",
    ">- Montrer que le critère est bon, c.à.d.. que la solution obtenue est optimale : souvent dur !\n",
    ">- Implémenter: en général facile et efficace!\n",
    "\n"
   ]
  },
  {
   "cell_type": "markdown",
   "id": "51f3c135",
   "metadata": {},
   "source": [
    "<img src=\" https://github.com/Lionel-Helin-Oza/TP6.4-Algo_glouton_-_prog_dyna/blob/main/pac_man.png?raw=true\" width=\"350\">"
   ]
  },
  {
   "cell_type": "markdown",
   "id": "d270b10d",
   "metadata": {},
   "source": [
    "---"
   ]
  },
  {
   "cell_type": "markdown",
   "id": "c5797bec",
   "metadata": {},
   "source": [
    "## <span style='color:Red'> Partie 2 : La Programmation Dynamique\n",
    "\n",
    "> **La programmation dynamique consiste à résoudre un problème :en le décomposant en sous-problèmes, puis à résoudre les sous-problèmes, des plus petits aux plus grands en stockant les résultats intermédiaires et en suivant une règle d’optimalité.**\n",
    "    \n",
    "    \n",
    "●\tLa méthode de programmation dynamique, comme la méthode diviser-pour-régner (déjà vue en cours pour le tri par fusion en début d’année scolaire), résout des problèmes en combinant des solutions de sous-problèmes.\n",
    "    \n",
    "    \n",
    "●\tLes algorithmes diviser-pour-régner partitionnent le problème en sous-problèmes indépendants qu’ils résolvent récursivement, puis combinent leurs solutions pour résoudre le problème initial. \n",
    "    \n",
    "    \n",
    "●\tMais la méthode diviser-pour-régner est inefficace si on doit résoudre plusieurs fois le même sous-problèmèe. \n",
    "    \n",
    "> **`En programmation dynamique, on se rappelle des sous-problèmes que l’on a résolus et de leurs solutions.`**\n",
    "\n"
   ]
  },
  {
   "cell_type": "markdown",
   "id": "01c13445",
   "metadata": {},
   "source": [
    "## <span style='color:Blue'> *Thème 1 : Problème du rendu de monnaie*   \n",
    "\n",
    "Supposons un système de pièces : 2 centimes, 5 centimes, 10 centimes, 50 centimes et 1 euro. \n",
    "    \n",
    "<span style='color:violet'> **Solution 1 : Méthode Gloutonne**\n",
    "    \n",
    "Nous avons vu précédemment un algorithme glouton pour résoudre le problème du rendu de pièces de monnaie. La méthode employée était de toujours choisir la pièce de valeur la plus grande possible (afin de se rapprocher de zéro le plus rapidement possible). \n",
    "Nous avons vu que cet algorithme est efficace mais ne rend pas forcement la solution optimale.\n",
    "\n",
    "<span style='color:violet'> **Solution 2 : Méthode de force brute**\n",
    "    \n",
    "Nous avons vu qu’elle permettait d’avoir la solution optimale, mais qu’elle était très « gourmande » en ressources !\n",
    "\n",
    "   "
   ]
  },
  {
   "cell_type": "markdown",
   "id": "1a895dbc",
   "metadata": {},
   "source": [
    "<span style='color:violet'> **Solution 3 : Programmation dynamique**\n",
    "    \n",
    "    \n",
    "> Qu’est-ce qu’on voudrait ? Un programme qui rend toujours (dans l’idéal…) la monnaie, quels que soient le système de pièces et le montant, dans un temps raisonnable et qui garantit rendre la monnaie avec un nombre de pièces minimal.\n",
    "\n",
    "Une idée serait de pouvoir calculer en “peu de temps” la solution pour notre problème incrémentalement, c’est-à-dire en calculant petit à petit la solution, et en particulier, en s’aidant des calculs sur des problèmes plus petits pour résoudre le problème initial plus gros. \n",
    "\n",
    "Formalisons cette idée un peu vague.\n",
    "En effet, soit un problème à plusieurs types de paramètres : dans l’exemple qui nous intéresse, on a deux types de paramètres :\n",
    "- le système de pièces, avec 5 instances;\n",
    "- le montant à rendre.\n",
    "\n",
    "Nous allons rechercher une relation de récurrence afin de déterminer l’algorithme. \n",
    "Soit :\n",
    "-\t**X** la somme à rendre, \n",
    "-\t**Nb(X)** le nombre minimum de pièces à rendre. \n",
    "    \n",
    "    \n",
    "Nous allons nous poser la question suivante : Si je suis capable de rendre **X**  avec **Nb(X)**  pièces, quelle somme suis-je capable de rendre avec **1+ Nb(X)** pièces ?\n",
    "    \n",
    "Si j'ai à ma disposition la liste de pièces suivante : p1, p2, p3, ..., pn  et que je suis capable de rendre **X** cts, je suis donc aussi capable de rendre :\n",
    "    \n",
    "X−p1\n",
    "    \n",
    "X−p2\n",
    "    \n",
    "X−p3\n",
    "    \n",
    "...\n",
    "    \n",
    "X−pn\n",
    "    \n",
    "(à condition que pi  (avec i compris entre 1 et n) soit inférieure ou égale à la somme restant à rendre)\n",
    "    \n",
    "***Exemple :*** si je suis capable de rendre 72 cts et que j'ai à ma disposition des pièces de 2 cts, 5 cts, 10 cts, 50 cts et 1 euro, je peux aussi rendre :\n",
    "    \n",
    "72 - 2 = 70 cts\n",
    "    \n",
    "72 - 5 = 67 cts\n",
    "    \n",
    "72 - 10 = 62 cts\n",
    "    \n",
    "72 - 50 = 22 cts\n",
    "    \n",
    "Autrement dit, si **Nb(X−pi)**  (avec i compris entre 1 et n) est le nombre minimal de pièces à rendre pour le montant X−pi , alors  Nb(X)=1+Nb(X−pi)  est le nombre minimal de pièces à rendre pour un montant X\n",
    "    \n",
    "> Nous avons donc la formule de récurrence suivante :\n",
    "    \n",
    ">+\tSi X=0, Nb(X)=0\n",
    "    \n",
    ">+\tSi X>0  Nb(X) = 1 + min Nb(X − pi ) , avec 1 ≤ 𝑖 ≤ 𝑛   , et pi ≤ X\n",
    "    \n",
    "Le \"min\" présent dans la formule de récurrence exprime le fait que le nombre de pièces à rendre pour une somme X−pi doit être le plus petit possible.\n",
    "    \n",
    "Cet algorithme peut se traduire par la construction d’un arbre. \n",
    "    \n",
    "Un arbre des solutions optimales peut-être construit.  Consignes : \n",
    "    \n",
    "+ Sa **racine** est la somme à rendre.\n",
    "    \n",
    "+ Un **nœud** représente une somme intermédiaire. \n",
    "\n",
    "+ Les **fils** d'un nœud correspondent aux sommes restantes à rendre selon la dernière pièce rendue \n",
    "\n",
    "+ La construction de l'arbre se fait en largeur d'abord, c'est-à-dire qu'on calcule les fils de tous les nœuds d'un niveau avant de passer au niveau suivant, et on s'arrête dès qu'un nœud 0 est trouvé́ : le chemin allant de la racine à ce nœud permet de rendre la monnaie avec un minimum de pièces.\n",
    "\n",
    "Imaginons que nous devons rendre 11cts avec des pièces de 1 cts, 5 cts, 10 cts, 50 cts, 100 cts (1 euro).. Voici un arbre \n"
   ]
  },
  {
   "cell_type": "markdown",
   "id": "4ad6d362",
   "metadata": {},
   "source": [
    "<img src=\"https://github.com/Lionel-Helin-Oza/TP6.4-Algo_glouton_-_prog_dyna/blob/main/arbre.png?raw=true\" width=\"550\">"
   ]
  },
  {
   "cell_type": "markdown",
   "id": "379d5ad3",
   "metadata": {},
   "source": [
    "### <span style='color:Green'> *Exercice 2.1 :*  \n",
    "    \n",
    "Prenons par exemple le système monétaire {1, 7, 23} avec lequel nous souhaitons rendre la monnaie sur 28. \n",
    "\n",
    "> **Tracer l’arbre des solutions**\n",
    "    \n",
    "   "
   ]
  },
  {
   "cell_type": "raw",
   "id": "fe831d50",
   "metadata": {},
   "source": [
    "Votre réponse ci-dessous : (vous pouvez faire l'arbre sur un logiciel annexe et coller le résultat, ou faire une structure hiérarchisé directement sur le document)\n",
    "\n",
    "\n",
    "23 > 1 > 1 > 1 > 1 > 1 ==> 6 pièces\n",
    "\n",
    "7 > 7 > 7 ==> 3 pièces\n",
    "\n",
    "\n",
    "\n",
    "\n",
    "\n"
   ]
  },
  {
   "cell_type": "markdown",
   "id": "db89237a",
   "metadata": {},
   "source": [
    "**A compléter** : Le nombre minimal de pièces à rendre est de : 3"
   ]
  },
  {
   "cell_type": "markdown",
   "id": "994afb1e",
   "metadata": {},
   "source": [
    "***Remarques :***\n",
    "\n",
    "- *La profondeur minimum de l'arbre (avec une feuille 0) est la solution au problème.*\n",
    "\n",
    "\n",
    "- *Dans ces arbres, tous les cas sont \"traités\" (quand un algorithme \"traite\" tous les cas possibles, on parle de méthode \"de force brute\"). La construction de l’arbre sera impossible pour de grands nombres (capacité de la pile dépassée)*\n"
   ]
  },
  {
   "cell_type": "markdown",
   "id": "f7d4f998",
   "metadata": {},
   "source": [
    "### <span style='color:Green'> *Exercice 2.2 : Première implémentation Python*  \n",
    "    "
   ]
  },
  {
   "cell_type": "markdown",
   "id": "6cbd9703",
   "metadata": {},
   "source": [
    "Le code ci-dessous reprend la relation de récurrence définie précédemment. Pour être sûr de renvoyer le plus petit nombre de pièces, on attribue dans un premier temps la valeur 1000 à la variable mini (cette valeur 1000 est arbitraire, il faut juste une valeur suffisamment grande : on peut partir du principe que nous ne rencontrerons jamais de cas où il faudra rendre plus de 1000 pièces), ensuite, à chaque appel récursif, on \"sauvegarde\" le plus petit nombre de pièces dans cette variable mini."
   ]
  },
  {
   "cell_type": "code",
   "execution_count": 2,
   "id": "df131de6",
   "metadata": {},
   "outputs": [],
   "source": [
    "def rendu_monnaie_rec(P,X):\n",
    "    if X==0:\n",
    "        return 0\n",
    "    else:\n",
    "        mini=1000\n",
    "    for i in range (len(P)):\n",
    "        if P[i]<=X:\n",
    "            nb = 1 +rendu_monnaie_rec(P,X-P[i])\n",
    "            if nb<mini:\n",
    "                mini=nb\n",
    "    return mini\n",
    "\n",
    "pieces=(2,5,10,50,100)"
   ]
  },
  {
   "cell_type": "markdown",
   "id": "e02ef1c1",
   "metadata": {},
   "source": [
    "- **Tester cette implémentation pour l’exemple précédent (rendu de 11cts)**\n",
    "\n",
    "- **Tester le programme pour un rendu plus important ( 171 cts). Que se passe t-il ?**\n"
   ]
  },
  {
   "cell_type": "code",
   "execution_count": 10,
   "id": "56c58a47",
   "metadata": {},
   "outputs": [
    {
     "name": "stdout",
     "output_type": "stream",
     "text": [
      "4\n"
     ]
    }
   ],
   "source": [
    "#Vos tests/ réponses ci-dessous :\n",
    "\n",
    "def rendu_monnaie_rec(P,X):\n",
    "    if X==0:\n",
    "        return 0\n",
    "    else:\n",
    "        mini=1000\n",
    "    for i in range (len(P)):\n",
    "        if P[i]<=X:\n",
    "            nb = 1 +rendu_monnaie_rec(P,X-P[i])\n",
    "            if nb<mini:\n",
    "                mini=nb\n",
    "    return mini\n",
    "\n",
    "pieces=(2,5,10,50,100)\n",
    "\n",
    "####TESTS####\n",
    "\n",
    "print(rendu_monnaie_rec(pieces, 11))\n",
    "\n",
    "#print(rendu_monnaie_rec(pieces, 171)) Le rendu plus élevé met trop de temps à s'exécuter\n",
    "\n",
    "\n"
   ]
  },
  {
   "cell_type": "markdown",
   "id": "836e9405",
   "metadata": {},
   "source": [
    "***Remarque :***\n",
    "\n",
    "On peut remarquer que certains « calculs » se répéte. Dans l’exemple précédent, le problème « trouver une solution optimale pour rendre 4cts est traité 2 fois. Nous allons donc pouvoir le «mémoriser » pour éviter de traiter le problème une seconde fois. **` c’est la programmation dynamique`**\n"
   ]
  },
  {
   "cell_type": "markdown",
   "id": "4b86960d",
   "metadata": {},
   "source": [
    "<img src=\"https://github.com/Lionel-Helin-Oza/TP6.4-Algo_glouton_-_prog_dyna/blob/main/arbre2.png?raw=true\" width=\"550\">"
   ]
  },
  {
   "cell_type": "markdown",
   "id": "ad0382f3",
   "metadata": {},
   "source": [
    "### <span style='color:Green'> *Exercice 2.3 : Implémentation Python* de l'algorithme dynamique\n",
    "    \n",
    "Pour programmer de manière dynamique, nous devons garder en mémoire le résultat des opérations précédentes. Cela évitera trop d’appels récursifs.\n",
    "\n",
    "- **Modifier le code précédent en tenant compte de la programmation dynamique :**\n",
    "    "
   ]
  },
  {
   "cell_type": "code",
   "execution_count": 11,
   "id": "1fb06f6d",
   "metadata": {},
   "outputs": [
    {
     "name": "stdout",
     "output_type": "stream",
     "text": [
      "7\n"
     ]
    }
   ],
   "source": [
    "# Votre réponse ci-dessous :\n",
    "\n",
    "\n",
    "def rendu_monnaie_mem(P,X):\n",
    "  mem = [0]*(X+1)\n",
    "  return rendu_monnaie_mem_c(P,X,mem)\n",
    "\n",
    "def rendu_monnaie_mem_c(P,X,m):\n",
    "  if X==0:\n",
    "    return 0\n",
    "  elif m[X]>0:\n",
    "    return m[X]\n",
    "  else:\n",
    "    mini = 1000\n",
    "    for i in range(len(P)):\n",
    "      if P[i]<=X:\n",
    "        nb=1+rendu_monnaie_mem_c(P,X-P[i],m)\n",
    "        if nb<mini:\n",
    "          mini = nb\n",
    "          m[X] = mini\n",
    "  return mini\n",
    "\n",
    "pieces=(2,5,10,50,100)\n",
    "\n",
    "print(rendu_monnaie_mem(pieces, 171))\n",
    "\n"
   ]
  },
  {
   "cell_type": "markdown",
   "id": "f61fd072",
   "metadata": {},
   "source": [
    "---"
   ]
  },
  {
   "cell_type": "markdown",
   "id": "7358b1ca",
   "metadata": {},
   "source": [
    "| <span style='color:Blue'> L.HELIN |  | |   | |     |<span style='color:Blue'> NSI Terminale | |   | ||<span style='color:Blue'> Lycée Ozanam (Lille) & Lycée NDPO (Orchies)|\n",
    "| --- | --- |--- |--- |--- |--- | --- | --- |--- |--- | --- | --- |"
   ]
  }
 ],
 "metadata": {
  "kernelspec": {
   "display_name": "Python 3 (ipykernel)",
   "language": "python",
   "name": "python3"
  },
  "language_info": {
   "codemirror_mode": {
    "name": "ipython",
    "version": 3
   },
   "file_extension": ".py",
   "mimetype": "text/x-python",
   "name": "python",
   "nbconvert_exporter": "python",
   "pygments_lexer": "ipython3",
   "version": "3.11.2"
  }
 },
 "nbformat": 4,
 "nbformat_minor": 5
}
